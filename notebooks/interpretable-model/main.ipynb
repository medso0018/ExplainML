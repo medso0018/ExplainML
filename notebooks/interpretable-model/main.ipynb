{
 "cells": [
  {
   "cell_type": "code",
   "execution_count": null,
   "metadata": {},
   "outputs": [],
   "source": [
    "# # to minimize!\n",
    "# def regularization_term(true, prediction):\n",
    "#     order = list(range(1,4))\n",
    "#     order.append(0)\n",
    "    \n",
    "#     deviation = (true*true[:,order]) - (prediction*prediction[:,order])\n",
    "#     deviation = abs(deviation)**2\n",
    "#     return 0.2 * deviation\n",
    "\n",
    "# def my_custom_loss(y_true, y_pred):\n",
    "#     return tf.keras.losses.BinaryCrossentropy()(y_true, y_pred) + regularization_term(y_true, y_pred)\n",
    "\n",
    "\n",
    "# model.compile(optimizer='Adam', loss=my_custom_loss)"
   ]
  }
 ],
 "metadata": {
  "language_info": {
   "name": "python"
  },
  "orig_nbformat": 4
 },
 "nbformat": 4,
 "nbformat_minor": 2
}
