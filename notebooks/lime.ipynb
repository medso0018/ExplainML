{
 "cells": [
  {
   "cell_type": "code",
   "execution_count": null,
   "metadata": {},
   "outputs": [],
   "source": [
    "# import libraries\n",
    "import pandas as pd\n",
    "import numpy as np\n",
    "import seaborn as sns\n",
    "import matplotlib.pyplot as plt\n",
    "import keras\n",
    "import lime\n",
    "from lime import lime_tabular\n",
    "from sklearn.preprocessing import normalize\n",
    "from sklearn.model_selection import train_test_split"
   ]
  },
  {
   "cell_type": "code",
   "execution_count": null,
   "metadata": {},
   "outputs": [],
   "source": [
    "# read dataset\n",
    "dataset = pd.read_csv('../dataset/iris/iris.data', names=['SepalLength', 'SepalWidth', 'PetalLength',  'PetalWidth', 'class'])"
   ]
  },
  {
   "cell_type": "code",
   "execution_count": null,
   "metadata": {},
   "outputs": [],
   "source": [
    "# print some examples\n",
    "dataset[::20]"
   ]
  },
  {
   "cell_type": "code",
   "execution_count": null,
   "metadata": {},
   "outputs": [],
   "source": [
    "# print calss names\n",
    "print('Dataset classes:')\n",
    "class_names = dataset['class'].unique()\n",
    "print(class_names)"
   ]
  },
  {
   "cell_type": "code",
   "execution_count": null,
   "metadata": {},
   "outputs": [],
   "source": [
    "barplot_data = dataset.groupby('class', as_index=False).count()[['class', 'SepalLength']]\n",
    "barplot_data.columns = ['class', 'count']\n",
    "sns.barplot(data=barplot_data, x='class', y='count')\n",
    "plt.show()"
   ]
  },
  {
   "cell_type": "code",
   "execution_count": null,
   "metadata": {},
   "outputs": [],
   "source": [
    "# data describtion\n",
    "dataset.describe()"
   ]
  },
  {
   "cell_type": "code",
   "execution_count": null,
   "metadata": {},
   "outputs": [],
   "source": [
    "# some informations about dataset\n",
    "dataset.info()"
   ]
  },
  {
   "cell_type": "code",
   "execution_count": null,
   "metadata": {},
   "outputs": [],
   "source": [
    "sns.pairplot(dataset, hue='class')\n",
    "plt.show()"
   ]
  },
  {
   "cell_type": "code",
   "execution_count": null,
   "metadata": {},
   "outputs": [],
   "source": [
    "# SepalLength  SepalWidth  PetalLength  PetalWidth\n",
    "8, 3, 6.5, 2.5"
   ]
  },
  {
   "cell_type": "code",
   "execution_count": null,
   "metadata": {},
   "outputs": [],
   "source": [
    "# change name of classes to categorical class with numbers\n",
    "dataset.loc[dataset['class'] == 'Iris-setosa','class'] = 0\n",
    "dataset.loc[dataset['class'] == 'Iris-versicolor','class'] = 1\n",
    "dataset.loc[dataset['class'] == 'Iris-virginica','class'] = 2\n",
    "\n",
    "# print some examples\n",
    "dataset[::20]"
   ]
  },
  {
   "cell_type": "code",
   "execution_count": null,
   "metadata": {},
   "outputs": [],
   "source": [
    "# Converting data to numpy array in order for processing\n",
    "X = dataset.iloc[:, 0:4]\n",
    "y = dataset.iloc[:, 4]\n",
    "\n",
    "# print X and y shapes\n",
    "print(\"Shape of X\",X.shape)\n",
    "print(\"Shape of y\",y.shape)"
   ]
  },
  {
   "cell_type": "code",
   "execution_count": null,
   "metadata": {},
   "outputs": [],
   "source": [
    "# print examples\n",
    "print('Examples of X:')\n",
    "print(X[::50])\n",
    "\n",
    "print('Examples of y:')\n",
    "print(y[::50])"
   ]
  },
  {
   "cell_type": "code",
   "execution_count": null,
   "metadata": {},
   "outputs": [],
   "source": [
    "# Normalize the input\n",
    "normalized_dataset = pd.DataFrame(normalize(dataset.iloc[:,0:4], axis=0))\n",
    "normalized_dataset.columns = dataset.columns[:4]\n",
    "normalized_dataset['class'] = dataset['class']\n",
    "print('Examples of normalized_dataset:')\n",
    "normalized_dataset[::50]"
   ]
  },
  {
   "cell_type": "code",
   "execution_count": null,
   "metadata": {},
   "outputs": [],
   "source": [
    "# Creating trainset, testset and validation data\n",
    "total_length = len(normalized_dataset)\n",
    "train, test = train_test_split(normalized_dataset, test_size=0.2, shuffle=True)\n",
    "\n",
    "X_train = train.iloc[:,0:4]\n",
    "X_test = test.iloc[:,0:4]\n",
    "y_train = train.iloc[:,4]\n",
    "y_test = test.iloc[:,4]\n",
    "\n",
    "# print tainset and testset shape\n",
    "print(\"Length of train set x:\", X_train.shape, \"y:\", y_train.shape)\n",
    "print(\"Length of test set x:\", X_test.shape, \"y:\", y_test.shape)"
   ]
  },
  {
   "cell_type": "code",
   "execution_count": null,
   "metadata": {},
   "outputs": [],
   "source": [
    "# Neural network module\n",
    "from keras.models import Sequential \n",
    "from keras.layers import Dense, Activation, Dropout \n",
    "from keras.utils import np_utils\n",
    "import tensorflow as tf"
   ]
  },
  {
   "cell_type": "code",
   "execution_count": null,
   "metadata": {},
   "outputs": [],
   "source": [
    "# Change the label to one hot vector\n",
    "\n",
    "# [0]--->[1 0 0]\n",
    "# [1]--->[0 1 0]\n",
    "# [2]--->[0 0 1]\n",
    "\n",
    "y_train = np_utils.to_categorical(y_train, num_classes=3)\n",
    "y_test = np_utils.to_categorical(y_test, num_classes=3)\n",
    "\n",
    "# print tainset and testset shape\n",
    "print(\"Shape of y_train\", y_train.shape)\n",
    "print(\"Shape of y_test\", y_test.shape)"
   ]
  },
  {
   "cell_type": "code",
   "execution_count": null,
   "metadata": {},
   "outputs": [],
   "source": [
    "model = Sequential()\n",
    "model.add(Dense(1000, input_dim=4, activation='relu'))\n",
    "model.add(Dense(500, activation='relu'))\n",
    "model.add(Dense(300, activation='relu'))\n",
    "model.add(Dropout(0.2))\n",
    "model.add(Dense(3, activation='softmax'))\n",
    "model.compile(loss='categorical_crossentropy', optimizer='adam', metrics=['accuracy'])"
   ]
  },
  {
   "cell_type": "code",
   "execution_count": null,
   "metadata": {},
   "outputs": [],
   "source": [
    "model.summary()"
   ]
  },
  {
   "cell_type": "code",
   "execution_count": null,
   "metadata": {},
   "outputs": [],
   "source": [
    "model.fit(X_train, y_train, batch_size=20, epochs=10, verbose=True)"
   ]
  },
  {
   "cell_type": "code",
   "execution_count": null,
   "metadata": {},
   "outputs": [],
   "source": [
    "prediction = model.predict(X_test)\n",
    "length = len(prediction)\n",
    "y_label = np.argmax(y_test, axis=1)\n",
    "predict_label = np.argmax(prediction, axis=1)\n",
    "accuracy = np.sum(y_label == predict_label) / length * 100 \n",
    "print(\"Accuracy of the dataset\", accuracy)"
   ]
  },
  {
   "cell_type": "code",
   "execution_count": null,
   "metadata": {},
   "outputs": [],
   "source": [
    "# create the explainer object\n",
    "explainer = lime_tabular.LimeTabularExplainer(\n",
    "    training_data=np.array(X_train),\n",
    "    feature_names=X_train.columns.values.tolist(),\n",
    "    class_names=class_names,\n",
    "    mode='classification'\n",
    ")"
   ]
  },
  {
   "cell_type": "code",
   "execution_count": null,
   "metadata": {},
   "outputs": [],
   "source": [
    "# id of the instance that we will predict her class\n",
    "i = 1\n",
    "\n",
    "# generate the explanations\n",
    "exp = explainer.explain_instance(\n",
    "    data_row=X_test.iloc[i], \n",
    "    top_labels=3,\n",
    "    predict_fn=model.predict\n",
    ")"
   ]
  },
  {
   "cell_type": "code",
   "execution_count": null,
   "metadata": {},
   "outputs": [],
   "source": [
    "# print some informations about the instance\n",
    "print('Features value: ')\n",
    "print(X_test.iloc[i], end='\\n\\n')\n",
    "print('Real label:', class_names[np.argmax(y_test[i])])\n",
    "print('Predicted label:', class_names[np.argmax(model.predict([list(X_test.iloc[i])], verbose=False)[0])])\n",
    "\n",
    "# show explanations\n",
    "exp.show_in_notebook(show_table=True)"
   ]
  }
 ],
 "metadata": {
  "kernelspec": {
   "display_name": "Python 3",
   "language": "python",
   "name": "python3"
  },
  "language_info": {
   "codemirror_mode": {
    "name": "ipython",
    "version": 3
   },
   "file_extension": ".py",
   "mimetype": "text/x-python",
   "name": "python",
   "nbconvert_exporter": "python",
   "pygments_lexer": "ipython3",
   "version": "3.10.9"
  },
  "orig_nbformat": 4,
  "vscode": {
   "interpreter": {
    "hash": "f6cd4f1a4d690f61f0a66f0d752ec615604a1e9c7dfcdfc555308c3b0255f392"
   }
  }
 },
 "nbformat": 4,
 "nbformat_minor": 2
}
