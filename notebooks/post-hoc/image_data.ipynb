{
 "cells": [
  {
   "attachments": {},
   "cell_type": "markdown",
   "metadata": {},
   "source": [
    "### Import libraries"
   ]
  },
  {
   "cell_type": "code",
   "execution_count": null,
   "metadata": {},
   "outputs": [],
   "source": [
    "import numpy as np\n",
    "import matplotlib.pyplot as plt\n",
    "from keras.datasets import mnist\n",
    "from keras.utils import np_utils\n",
    "from skimage.color import gray2rgb"
   ]
  },
  {
   "attachments": {},
   "cell_type": "markdown",
   "metadata": {},
   "source": [
    "### Load MINST dataset"
   ]
  },
  {
   "cell_type": "code",
   "execution_count": null,
   "metadata": {},
   "outputs": [],
   "source": [
    "# get dataset and split it into two datasets (training, testing)\n",
    "(X_train, y_train), (X_test, y_test) = mnist.load_data()"
   ]
  },
  {
   "attachments": {},
   "cell_type": "markdown",
   "metadata": {},
   "source": [
    "### Data preprocessing"
   ]
  },
  {
   "cell_type": "code",
   "execution_count": null,
   "metadata": {},
   "outputs": [],
   "source": [
    "# preprocessing the data\n",
    "def preprocess_data(X, y):\n",
    "    # normalization\n",
    "    X = X.astype(\"float32\") / 255\n",
    "    X = np.array([gray2rgb(img) for img in X])\n",
    "    # one-hot encoding\n",
    "    y = np_utils.to_categorical(y)\n",
    "    return X, y\n",
    "\n",
    "X_train, y_train = preprocess_data(X_train, y_train)\n",
    "X_test, y_test = preprocess_data(X_test, y_test)"
   ]
  },
  {
   "cell_type": "code",
   "execution_count": null,
   "metadata": {},
   "outputs": [],
   "source": [
    "print(\"X_train shape:\", X_train.shape)\n",
    "print(\"X_test shape:\", X_test.shape)"
   ]
  },
  {
   "cell_type": "code",
   "execution_count": null,
   "metadata": {},
   "outputs": [],
   "source": [
    "print(\"y_train shape:\", y_train.shape)\n",
    "print(\"y_test shape:\", y_test.shape)"
   ]
  },
  {
   "cell_type": "code",
   "execution_count": null,
   "metadata": {},
   "outputs": [],
   "source": [
    "# set random seed\n",
    "np.random.seed(100)\n",
    "\n",
    "# choose some examples to visualize\n",
    "examples = []\n",
    "for i in range(10):\n",
    "    indexes = np.where(np.argmax(y_test, axis=1) == i)\n",
    "    all_indexes = np.hstack(indexes)\n",
    "    examples.append(np.random.choice(all_indexes))\n",
    "\n",
    "# show examples\n",
    "fig, axes = plt.subplots(1, 10, figsize=(20, 3))\n",
    "fig.tight_layout()\n",
    "for i, ax in enumerate(axes.flat):\n",
    "    ax.imshow(X_test[examples][i])\n",
    "    ax.title.set_text(f'Class: {np.argmax(y_test[examples][i])}')\n",
    "    ax.axis('off')"
   ]
  },
  {
   "attachments": {},
   "cell_type": "markdown",
   "metadata": {},
   "source": [
    "### Black-box model"
   ]
  },
  {
   "cell_type": "code",
   "execution_count": null,
   "metadata": {},
   "outputs": [],
   "source": [
    "import keras\n",
    "import tensorflow as tf"
   ]
  },
  {
   "cell_type": "code",
   "execution_count": null,
   "metadata": {},
   "outputs": [],
   "source": [
    "model = keras.Sequential(\n",
    "    [\n",
    "        keras.Input(shape=np.shape(X_train)[1:]),\n",
    "        keras.layers.Conv2D(32, kernel_size=(3, 3), activation=\"relu\"),\n",
    "        keras.layers.MaxPooling2D(pool_size=(2, 2)),        \n",
    "        keras.layers.Flatten(),\n",
    "        keras.layers.Dropout(0.5),\n",
    "        keras.layers.Dense(10, activation=\"softmax\"),\n",
    "    ]\n",
    ")\n",
    "\n",
    "model.compile(loss='categorical_crossentropy', optimizer='adam', metrics=['accuracy'])"
   ]
  },
  {
   "cell_type": "code",
   "execution_count": null,
   "metadata": {},
   "outputs": [],
   "source": [
    "# print model summary\n",
    "model.summary()"
   ]
  },
  {
   "cell_type": "code",
   "execution_count": null,
   "metadata": {},
   "outputs": [],
   "source": [
    "# train the model\n",
    "model.fit(X_train, y_train, epochs=5, batch_size=10, validation_split=0.1)"
   ]
  },
  {
   "cell_type": "code",
   "execution_count": null,
   "metadata": {},
   "outputs": [],
   "source": [
    "# evaluate the model\n",
    "loss, accuracy = model.evaluate(X_test, y_test, verbose=False)\n",
    "print(\"Test loss:\", '\\t', loss)\n",
    "print(\"Test accuracy:\", '\\t', accuracy)"
   ]
  },
  {
   "attachments": {},
   "cell_type": "markdown",
   "metadata": {},
   "source": [
    "### Explanation"
   ]
  },
  {
   "cell_type": "code",
   "execution_count": null,
   "metadata": {},
   "outputs": [],
   "source": [
    "# set random seed\n",
    "np.random.seed(10)\n",
    "\n",
    "# images to classify and explain\n",
    "to_explain = []\n",
    "for i in range(10):\n",
    "    indexes = np.where(np.argmax(y_test, axis=1) == i)\n",
    "    all_indexes = np.hstack(indexes)\n",
    "    to_explain.append(np.random.choice(all_indexes))\n",
    "\n",
    "fig, axes = plt.subplots(1, 10, figsize=(20, 3))\n",
    "fig.tight_layout()\n",
    "for i, ax in enumerate(axes.flat):\n",
    "    ax.imshow(X_test[to_explain][i])\n",
    "    ax.title.set_text(f'Class: {np.argmax(y_test[to_explain][i])}')\n",
    "    ax.axis('off')"
   ]
  },
  {
   "attachments": {},
   "cell_type": "markdown",
   "metadata": {},
   "source": [
    "#### 1. LIME"
   ]
  },
  {
   "cell_type": "code",
   "execution_count": null,
   "metadata": {},
   "outputs": [],
   "source": [
    "# import lime library\n",
    "from lime import lime_image\n",
    "from lime.wrappers.scikit_image import SegmentationAlgorithm"
   ]
  },
  {
   "cell_type": "code",
   "execution_count": null,
   "metadata": {},
   "outputs": [],
   "source": [
    "# create the explainer object\n",
    "lime_explainer = lime_image.LimeImageExplainer(verbose = False)\n",
    "segmenter = SegmentationAlgorithm('quickshift', kernel_size=1, max_dist=200, ratio=0.2)"
   ]
  },
  {
   "cell_type": "code",
   "execution_count": null,
   "metadata": {},
   "outputs": [],
   "source": [
    "# generate the explanations\n",
    "explanations = [\n",
    "    lime_explainer.explain_instance(\n",
    "        X_test[to_explain][i], \n",
    "        classifier_fn=model.predict, \n",
    "        top_labels=10, \n",
    "        hide_color=0, \n",
    "        num_samples=10000,\n",
    "        segmentation_fn=segmenter\n",
    "    ) for i in range(10)\n",
    "]"
   ]
  },
  {
   "cell_type": "code",
   "execution_count": null,
   "metadata": {},
   "outputs": [],
   "source": [
    "# plot the explanations\n",
    "for i_exp, explanation in enumerate(explanations):\n",
    "    fig, axes = plt.subplots(1, 11, figsize=(20, 3))\n",
    "    fig.tight_layout()\n",
    "    for i, c_ax in enumerate(axes.flatten()):\n",
    "        if i == 0:\n",
    "            c_ax.imshow(X_test[to_explain][i_exp])\n",
    "            c_ax.set_title(f'Original Image')\n",
    "            c_ax.axis('off')\n",
    "        else:\n",
    "            temp, mask = explanation.get_image_and_mask(i - 1, positive_only=True, hide_rest=True, min_weight=0.02)\n",
    "            c_ax.imshow(temp)\n",
    "            c_ax.set_title(f'Activation for {i - 1}')\n",
    "            c_ax.axis('off')\n",
    "    fig.suptitle(f'Prediction: {explanation.top_labels[0]}', fontsize=15)"
   ]
  },
  {
   "attachments": {},
   "cell_type": "markdown",
   "metadata": {},
   "source": [
    "#### 2. SHAP"
   ]
  },
  {
   "cell_type": "code",
   "execution_count": null,
   "metadata": {},
   "outputs": [],
   "source": [
    "# import shap library\n",
    "import shap\n",
    "shap.initjs()"
   ]
  },
  {
   "cell_type": "code",
   "execution_count": null,
   "metadata": {},
   "outputs": [],
   "source": [
    "# select a set of background examples to take an expectation over\n",
    "background = X_train[np.random.choice(X_train.shape[0], 100, replace=False)]"
   ]
  },
  {
   "cell_type": "code",
   "execution_count": null,
   "metadata": {},
   "outputs": [],
   "source": [
    "# explain predictions of the model on three images\n",
    "shap_explainer = shap.DeepExplainer(model, background)\n",
    "shap_values = shap_explainer.shap_values(X_test[to_explain])"
   ]
  },
  {
   "cell_type": "code",
   "execution_count": null,
   "metadata": {},
   "outputs": [],
   "source": [
    "# plot the explanations\n",
    "for i in range(10):\n",
    "    shap.image_plot(\n",
    "        list(np.array(shap_values)[:, i:i+1]), \n",
    "        X_test[to_explain[i:i+1]], \n",
    "        width=25, show=False, \n",
    "        labels=[f'Shap values for {sh_v}' for sh_v in range(10)]\n",
    "    )\n",
    "    print('Prediction:', np.argmax(model.predict(X_test[to_explain[i:i+1]], verbose=False)[0]))\n",
    "    plt.show()"
   ]
  }
 ],
 "metadata": {
  "kernelspec": {
   "display_name": "Python 3",
   "language": "python",
   "name": "python3"
  },
  "language_info": {
   "codemirror_mode": {
    "name": "ipython",
    "version": 3
   },
   "file_extension": ".py",
   "mimetype": "text/x-python",
   "name": "python",
   "nbconvert_exporter": "python",
   "pygments_lexer": "ipython3",
   "version": "3.10.10"
  },
  "orig_nbformat": 4,
  "vscode": {
   "interpreter": {
    "hash": "f6cd4f1a4d690f61f0a66f0d752ec615604a1e9c7dfcdfc555308c3b0255f392"
   }
  }
 },
 "nbformat": 4,
 "nbformat_minor": 2
}
