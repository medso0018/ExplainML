{
 "cells": [
  {
   "cell_type": "code",
   "execution_count": 1,
   "metadata": {},
   "outputs": [],
   "source": [
    "import numpy as np\n",
    "import matplotlib.pyplot as plt\n",
    "from keras.datasets import mnist\n",
    "from keras.utils import np_utils\n",
    "from skimage.color import gray2rgb"
   ]
  },
  {
   "cell_type": "code",
   "execution_count": 2,
   "metadata": {},
   "outputs": [],
   "source": [
    "# get dataset and split it into two datasets (training, testing)\n",
    "(X_train, y_train), (X_test, y_test) = mnist.load_data()"
   ]
  },
  {
   "cell_type": "code",
   "execution_count": 3,
   "metadata": {},
   "outputs": [
    {
     "data": {
      "image/png": "[encoded data removed]",
      "text/plain": [
       "<Figure size 1440x216 with 10 Axes>"
      ]
     },
     "metadata": {
      "needs_background": "light"
     },
     "output_type": "display_data"
    }
   ],
   "source": [
    "numbers = []\n",
    "for i in range(10):\n",
    "    indexes = np.where(y_test == i)\n",
    "    all_indexes = np.hstack(indexes)\n",
    "    numbers.append(all_indexes[-1])\n",
    "\n",
    "# show examples\n",
    "fig, axes = plt.subplots(1, 10, figsize=(20, 3))\n",
    "fig.tight_layout()\n",
    "for i, ax in enumerate(axes.flat):\n",
    "    ax.imshow(gray2rgb(X_test[numbers][i]), interpolation = 'none')\n",
    "    ax.title.set_text(f'Class: {y_test[numbers][i]}')"
   ]
  },
  {
   "cell_type": "code",
   "execution_count": 4,
   "metadata": {},
   "outputs": [],
   "source": [
    "def preprocess_data(x, y, limit):\n",
    "    indexes = []\n",
    "    n = 10\n",
    "    \n",
    "    for i in range(n):\n",
    "        indexes.append(np.where(y == i)[0][:limit])\n",
    "\n",
    "    all_indexes = np.hstack(indexes)\n",
    "    all_indexes = np.random.permutation(all_indexes)\n",
    "    \n",
    "    x, y = x[all_indexes], y[all_indexes]\n",
    "    # x = x.reshape(len(x), 1, 28, 28)\n",
    "    x = x.astype(\"float32\") / 255\n",
    "    y = np_utils.to_categorical(y)\n",
    "    # y = y.reshape(len(y), 1, n)\n",
    "    return x, y"
   ]
  },
  {
   "cell_type": "code",
   "execution_count": 5,
   "metadata": {},
   "outputs": [],
   "source": [
    "# preprocessing the data\n",
    "X_train, y_train = preprocess_data(X_train, y_train, 300)\n",
    "X_test, y_test = preprocess_data(X_test, y_test, 50)"
   ]
  },
  {
   "cell_type": "code",
   "execution_count": 6,
   "metadata": {},
   "outputs": [],
   "source": [
    "# Make sure images have shape (28, 28, 1)\n",
    "X_train = np.expand_dims(X_train, -1)\n",
    "X_test = np.expand_dims(X_test, -1)"
   ]
  },
  {
   "cell_type": "code",
   "execution_count": 7,
   "metadata": {},
   "outputs": [
    {
     "name": "stdout",
     "output_type": "stream",
     "text": [
      "x_train shape: (3000, 28, 28, 1)\n",
      "3000 train samples\n",
      "500 test samples\n"
     ]
    }
   ],
   "source": [
    "print(\"x_train shape:\", X_train.shape)\n",
    "print(X_train.shape[0], \"train samples\")\n",
    "print(X_test.shape[0], \"test samples\")"
   ]
  },
  {
   "cell_type": "code",
   "execution_count": 8,
   "metadata": {},
   "outputs": [],
   "source": [
    "import keras"
   ]
  },
  {
   "cell_type": "code",
   "execution_count": 9,
   "metadata": {},
   "outputs": [],
   "source": [
    "model = keras.Sequential(\n",
    "    [\n",
    "        keras.Input(shape=np.shape(X_train)[1:]),\n",
    "        keras.layers.Conv2D(32, kernel_size=(4, 4), activation=\"relu\"),\n",
    "        keras.layers.MaxPooling2D(pool_size=(3, 3)),\n",
    "        keras.layers.Conv2D(32, kernel_size=(3, 3), activation=\"relu\"),\n",
    "        keras.layers.MaxPooling2D(pool_size=(2, 2)),\n",
    "        keras.layers.Flatten(),\n",
    "        keras.layers.Dropout(0.5),\n",
    "        keras.layers.Dense(10, activation=\"softmax\"),\n",
    "    ]\n",
    ")\n",
    "\n",
    "model.compile(loss='categorical_crossentropy', optimizer='adam', metrics=['accuracy'])"
   ]
  },
  {
   "cell_type": "code",
   "execution_count": 10,
   "metadata": {},
   "outputs": [
    {
     "name": "stdout",
     "output_type": "stream",
     "text": [
      "Model: \"sequential\"\n",
      "_________________________________________________________________\n",
      " Layer (type)                Output Shape              Param #   \n",
      "=================================================================\n",
      " conv2d (Conv2D)             (None, 25, 25, 32)        544       \n",
      "                                                                 \n",
      " max_pooling2d (MaxPooling2D  (None, 8, 8, 32)         0         \n",
      " )                                                               \n",
      "                                                                 \n",
      " conv2d_1 (Conv2D)           (None, 6, 6, 32)          9248      \n",
      "                                                                 \n",
      " max_pooling2d_1 (MaxPooling  (None, 3, 3, 32)         0         \n",
      " 2D)                                                             \n",
      "                                                                 \n",
      " flatten (Flatten)           (None, 288)               0         \n",
      "                                                                 \n",
      " dropout (Dropout)           (None, 288)               0         \n",
      "                                                                 \n",
      " dense (Dense)               (None, 10)                2890      \n",
      "                                                                 \n",
      "=================================================================\n",
      "Total params: 12,682\n",
      "Trainable params: 12,682\n",
      "Non-trainable params: 0\n",
      "_________________________________________________________________\n"
     ]
    }
   ],
   "source": [
    "model.summary()"
   ]
  },
  {
   "cell_type": "code",
   "execution_count": 11,
   "metadata": {},
   "outputs": [
    {
     "name": "stdout",
     "output_type": "stream",
     "text": [
      "Epoch 1/20\n",
      "54/54 [==============================] - 2s 22ms/step - loss: 2.0406 - accuracy: 0.3200 - val_loss: 1.4657 - val_accuracy: 0.7100\n",
      "Epoch 2/20\n",
      "54/54 [==============================] - 1s 19ms/step - loss: 1.0535 - accuracy: 0.6911 - val_loss: 0.4962 - val_accuracy: 0.8867\n",
      "Epoch 3/20\n",
      "54/54 [==============================] - 1s 20ms/step - loss: 0.5403 - accuracy: 0.8337 - val_loss: 0.2913 - val_accuracy: 0.9600\n",
      "Epoch 4/20\n",
      "54/54 [==============================] - 1s 20ms/step - loss: 0.4014 - accuracy: 0.8793 - val_loss: 0.2491 - val_accuracy: 0.9500\n",
      "Epoch 5/20\n",
      "54/54 [==============================] - 1s 19ms/step - loss: 0.3247 - accuracy: 0.9030 - val_loss: 0.2264 - val_accuracy: 0.9567\n",
      "Epoch 6/20\n",
      "54/54 [==============================] - 1s 20ms/step - loss: 0.2715 - accuracy: 0.9193 - val_loss: 0.2074 - val_accuracy: 0.9600\n",
      "Epoch 7/20\n",
      "54/54 [==============================] - 1s 20ms/step - loss: 0.2574 - accuracy: 0.9211 - val_loss: 0.2010 - val_accuracy: 0.9633\n",
      "Epoch 8/20\n",
      "54/54 [==============================] - 1s 20ms/step - loss: 0.2510 - accuracy: 0.9256 - val_loss: 0.1666 - val_accuracy: 0.9700\n",
      "Epoch 9/20\n",
      "54/54 [==============================] - 1s 18ms/step - loss: 0.2270 - accuracy: 0.9356 - val_loss: 0.1731 - val_accuracy: 0.9633\n",
      "Epoch 10/20\n",
      "54/54 [==============================] - 1s 19ms/step - loss: 0.2201 - accuracy: 0.9304 - val_loss: 0.1644 - val_accuracy: 0.9700\n",
      "Epoch 11/20\n",
      "54/54 [==============================] - 1s 20ms/step - loss: 0.1968 - accuracy: 0.9441 - val_loss: 0.1596 - val_accuracy: 0.9700\n",
      "Epoch 12/20\n",
      "54/54 [==============================] - 1s 18ms/step - loss: 0.1931 - accuracy: 0.9437 - val_loss: 0.1671 - val_accuracy: 0.9733\n",
      "Epoch 13/20\n",
      "54/54 [==============================] - 1s 18ms/step - loss: 0.1764 - accuracy: 0.9433 - val_loss: 0.1562 - val_accuracy: 0.9633\n",
      "Epoch 14/20\n",
      "54/54 [==============================] - 1s 20ms/step - loss: 0.1552 - accuracy: 0.9515 - val_loss: 0.1738 - val_accuracy: 0.9700\n",
      "Epoch 15/20\n",
      "54/54 [==============================] - 1s 20ms/step - loss: 0.1496 - accuracy: 0.9556 - val_loss: 0.1414 - val_accuracy: 0.9733\n",
      "Epoch 16/20\n",
      "54/54 [==============================] - 1s 18ms/step - loss: 0.1566 - accuracy: 0.9563 - val_loss: 0.1326 - val_accuracy: 0.9700\n",
      "Epoch 17/20\n",
      "54/54 [==============================] - 1s 18ms/step - loss: 0.1413 - accuracy: 0.9556 - val_loss: 0.1331 - val_accuracy: 0.9733\n",
      "Epoch 18/20\n",
      "54/54 [==============================] - 1s 21ms/step - loss: 0.1387 - accuracy: 0.9589 - val_loss: 0.1190 - val_accuracy: 0.9700\n",
      "Epoch 19/20\n",
      "54/54 [==============================] - 1s 18ms/step - loss: 0.1341 - accuracy: 0.9581 - val_loss: 0.1367 - val_accuracy: 0.9733\n",
      "Epoch 20/20\n",
      "54/54 [==============================] - 1s 19ms/step - loss: 0.1297 - accuracy: 0.9630 - val_loss: 0.1351 - val_accuracy: 0.9733\n"
     ]
    },
    {
     "data": {
      "text/plain": [
       "<keras.callbacks.History at 0x1b39ab91060>"
      ]
     },
     "execution_count": 11,
     "metadata": {},
     "output_type": "execute_result"
    }
   ],
   "source": [
    "model.fit(X_train, y_train, epochs=20, batch_size=50, validation_split=0.1)"
   ]
  },
  {
   "cell_type": "code",
   "execution_count": 12,
   "metadata": {},
   "outputs": [
    {
     "name": "stdout",
     "output_type": "stream",
     "text": [
      "Test accuracy: 0.9739999771118164\n"
     ]
    }
   ],
   "source": [
    "score = model.evaluate(X_test, y_test, verbose=0)\n",
    "print(\"Test accuracy:\", score[1])"
   ]
  }
 ],
 "metadata": {
  "kernelspec": {
   "display_name": "Python 3",
   "language": "python",
   "name": "python3"
  },
  "language_info": {
   "codemirror_mode": {
    "name": "ipython",
    "version": 3
   },
   "file_extension": ".py",
   "mimetype": "text/x-python",
   "name": "python",
   "nbconvert_exporter": "python",
   "pygments_lexer": "ipython3",
   "version": "3.10.10"
  },
  "orig_nbformat": 4,
  "vscode": {
   "interpreter": {
    "hash": "f6cd4f1a4d690f61f0a66f0d752ec615604a1e9c7dfcdfc555308c3b0255f392"
   }
  }
 },
 "nbformat": 4,
 "nbformat_minor": 2
}
