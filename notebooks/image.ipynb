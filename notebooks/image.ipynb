{
 "cells": [
  {
   "cell_type": "code",
   "execution_count": 1,
   "metadata": {},
   "outputs": [],
   "source": [
    "import numpy as np\n",
    "import matplotlib.pyplot as plt\n",
    "from keras.datasets import mnist\n",
    "from keras.utils import np_utils\n",
    "from skimage.color import gray2rgb, rgb2gray, label2rgb"
   ]
  },
  {
   "cell_type": "code",
   "execution_count": 2,
   "metadata": {},
   "outputs": [],
   "source": [
    "# get dataset and split it into two datasets (training, testing)\n",
    "(X_train, y_train), (X_test, y_test) = mnist.load_data()"
   ]
  },
  {
   "cell_type": "code",
   "execution_count": 29,
   "metadata": {},
   "outputs": [
    {
     "data": {
      "image/png": "[encoded data removed]",
      "text/plain": [
       "<Figure size 1440x216 with 10 Axes>"
      ]
     },
     "metadata": {
      "needs_background": "light"
     },
     "output_type": "display_data"
    }
   ],
   "source": [
    "numbers = []\n",
    "for i in range(10):\n",
    "    indexes = np.where(y_test == i)\n",
    "    all_indexes = np.hstack(indexes)\n",
    "    numbers.append(all_indexes[0])\n",
    "\n",
    "# show images (P = predicted class, R = Real class)\n",
    "fig, axes = plt.subplots(1, 10, figsize=(20, 3))\n",
    "fig.tight_layout()\n",
    "\n",
    "for i, ax in enumerate(axes.flat):\n",
    "    ax.imshow(X_test[numbers][i])\n",
    "    ax.title.set_text(f'Class: {np.argmax(y_test[i])}')"
   ]
  },
  {
   "cell_type": "code",
   "execution_count": null,
   "metadata": {},
   "outputs": [],
   "source": [
    "def preprocess_data(x, y, limit):\n",
    "    indexes = []\n",
    "    n = 10\n",
    "    \n",
    "    for i in range(n):\n",
    "        indexes.append(np.where(y == i)[0][:limit])\n",
    "\n",
    "    all_indexes = np.hstack(indexes)\n",
    "    all_indexes = np.random.permutation(all_indexes)\n",
    "    x, y = x[all_indexes], y[all_indexes]\n",
    "    x = x.reshape(len(x), 1, 28, 28)\n",
    "    x = x.astype(\"float32\") / 255\n",
    "    y = np_utils.to_categorical(y)\n",
    "    y = y.reshape(len(y), n, 1)\n",
    "    return x, y"
   ]
  },
  {
   "cell_type": "code",
   "execution_count": null,
   "metadata": {},
   "outputs": [],
   "source": [
    "\n",
    "# # preprocessing the data\n",
    "# X_train, y_train = preprocess_data(X_train, y_train, 100)\n",
    "# X_test, y_test = preprocess_data(X_test, y_test, 20)\n",
    "\n",
    "# # set of images\n",
    "# images = X_test.copy()"
   ]
  },
  {
   "cell_type": "code",
   "execution_count": null,
   "metadata": {},
   "outputs": [],
   "source": [
    "\n",
    "# # preprocessing the data\n",
    "# X_train, y_train = preprocess_data(X_train, y_train, 100)\n",
    "# X_test, y_test = preprocess_data(X_test, y_test, 20)\n",
    "\n",
    "# # set of images\n",
    "# images = X_test.copy()"
   ]
  },
  {
   "cell_type": "code",
   "execution_count": null,
   "metadata": {},
   "outputs": [],
   "source": [
    "# show images (P = predicted class, R = Real class)\n",
    "fig, axes = plt.subplots(1, 10, figsize=(20, 3))\n",
    "fig.tight_layout()\n",
    "for i,ax in enumerate(axes.flat):\n",
    "    ax.imshow(images[i, 0])\n",
    "    ax.title.set_text(f'Class: {np.argmax(y_test[i])}')"
   ]
  },
  {
   "cell_type": "code",
   "execution_count": null,
   "metadata": {},
   "outputs": [],
   "source": []
  }
 ],
 "metadata": {
  "kernelspec": {
   "display_name": "Python 3",
   "language": "python",
   "name": "python3"
  },
  "language_info": {
   "codemirror_mode": {
    "name": "ipython",
    "version": 3
   },
   "file_extension": ".py",
   "mimetype": "text/x-python",
   "name": "python",
   "nbconvert_exporter": "python",
   "pygments_lexer": "ipython3",
   "version": "3.10.10"
  },
  "orig_nbformat": 4,
  "vscode": {
   "interpreter": {
    "hash": "f6cd4f1a4d690f61f0a66f0d752ec615604a1e9c7dfcdfc555308c3b0255f392"
   }
  }
 },
 "nbformat": 4,
 "nbformat_minor": 2
}
